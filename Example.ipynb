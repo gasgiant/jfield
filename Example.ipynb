{
 "cells": [
  {
   "cell_type": "markdown",
   "metadata": {},
   "source": [
    "# jfield\n",
    "A tool for Jupiter's magnetic field computation.\n",
    "\n",
    "## Installation\n",
    "jfield requires [numpy](http://www.numpy.org/), [scipy](https://www.scipy.org/) and [Cython](https://cython.org/).\n",
    "\n",
    "Run `python setup.py build_ext --inplace` to compile Cython extensions.\n",
    "\n",
    "[Jupyter Notebook](http://jupyter.org/) and [matplotlib](https://matplotlib.org/) are used in the example."
   ]
  },
  {
   "cell_type": "code",
   "execution_count": 10,
   "metadata": {},
   "outputs": [
    {
     "name": "stdout",
     "output_type": "stream",
     "text": [
      "Compiling current_disk.pyx because it changed.\n",
      "[1/1] Cythonizing current_disk.pyx\n",
      "/usr/local/lib/python3.6/site-packages/Cython/Compiler/Main.py:367: FutureWarning: Cython directive 'language_level' not set, using 2 for now (Py2). This will change in a later release! File: /Users/ivanpensionerov/Desktop/jfield (Cython)/current_disk.pyx\n",
      "  tree = Parsing.p_module(s, pxd, full_module_name)\n",
      "running build_ext\n",
      "building 'current_disk' extension\n",
      "clang -Wno-unused-result -Wsign-compare -Wunreachable-code -fno-common -dynamic -DNDEBUG -g -fwrapv -O3 -Wall -Wstrict-prototypes -I/usr/local/include -I/usr/local/opt/openssl/include -I/usr/local/opt/sqlite/include -I/usr/local/Cellar/python/3.6.5_1/Frameworks/Python.framework/Versions/3.6/include/python3.6m -c current_disk.c -o build/temp.macosx-10.13-x86_64-3.6/current_disk.o\n",
      "clang -bundle -undefined dynamic_lookup build/temp.macosx-10.13-x86_64-3.6/current_disk.o -L/usr/local/lib -L/usr/local/opt/openssl/lib -L/usr/local/opt/sqlite/lib -o /Users/ivanpensionerov/Desktop/jfield (Cython)/current_disk.cpython-36m-darwin.so\n",
      "Compiling internal_field.pyx because it changed.\n",
      "[1/1] Cythonizing internal_field.pyx\n",
      "/usr/local/lib/python3.6/site-packages/Cython/Compiler/Main.py:367: FutureWarning: Cython directive 'language_level' not set, using 2 for now (Py2). This will change in a later release! File: /Users/ivanpensionerov/Desktop/jfield (Cython)/internal_field.pyx\n",
      "  tree = Parsing.p_module(s, pxd, full_module_name)\n",
      "running build_ext\n",
      "building 'internal_field' extension\n",
      "clang -Wno-unused-result -Wsign-compare -Wunreachable-code -fno-common -dynamic -DNDEBUG -g -fwrapv -O3 -Wall -Wstrict-prototypes -I/usr/local/include -I/usr/local/opt/openssl/include -I/usr/local/opt/sqlite/include -I/usr/local/Cellar/python/3.6.5_1/Frameworks/Python.framework/Versions/3.6/include/python3.6m -c internal_field.c -o build/temp.macosx-10.13-x86_64-3.6/internal_field.o\n",
      "clang -bundle -undefined dynamic_lookup build/temp.macosx-10.13-x86_64-3.6/internal_field.o -L/usr/local/lib -L/usr/local/opt/openssl/lib -L/usr/local/opt/sqlite/lib -o /Users/ivanpensionerov/Desktop/jfield (Cython)/internal_field.cpython-36m-darwin.so\n"
     ]
    }
   ],
   "source": [
    "! python3 setup.py build_ext --inplace"
   ]
  },
  {
   "cell_type": "code",
   "execution_count": 1,
   "metadata": {},
   "outputs": [],
   "source": [
    "import numpy as np\n",
    "import jfield\n",
    "import transform as tr\n",
    "import matplotlib.pyplot as plt"
   ]
  },
  {
   "cell_type": "code",
   "execution_count": 2,
   "metadata": {},
   "outputs": [],
   "source": [
    "data = np.loadtxt('Example Data/PERI-01-pc.dat')\n",
    "x_jso = np.loadtxt('Example Data/PERI-01-ss.dat')[:,2] / jfield.params.RJ\n",
    "\n",
    "R = np.sqrt(data[:,2] ** 2 + data[:,3] ** 2 + data[:,4] ** 2) / jfield.params.RJ\n",
    "\n",
    "R_max = 60\n",
    "\n",
    "mask = np.where(R < R_max)[0]\n",
    "subsample = 5\n",
    "data = (data[mask,:])[::subsample, :]\n",
    "x_jso = (x_jso[mask])[::subsample]\n",
    "R = (R[mask])[::subsample]\n",
    "R1 = np.array(R)\n",
    "R1[:R.argmin()] = -R1[:R.argmin()]"
   ]
  },
  {
   "cell_type": "code",
   "execution_count": 3,
   "metadata": {},
   "outputs": [],
   "source": [
    "coords_SIII_cart = np.transpose(data[:,2:5] / jfield.params.RJ)\n",
    "coords_SIII_sph = tr.coords_cart2sph(coords_SIII_cart)\n",
    "coords_M_cart = jfield.SIII2M(coords_SIII_cart)\n",
    "coords_M_cyl = tr.coords_cart2cyl(coords_M_cart)\n",
    "\n",
    "B_obs_SIII_cart = np.transpose(data[:,5:8])\n",
    "B_obs_M_cart = jfield.SIII2M(B_obs_SIII_cart)\n",
    "B_obs_M_cyl = tr.vectors_cart2cyl(B_obs_M_cart, coords_M_cart)"
   ]
  },
  {
   "cell_type": "code",
   "execution_count": 4,
   "metadata": {},
   "outputs": [],
   "source": [
    "B_int_SIII_sph = jfield.internal_field(coords_SIII_sph[0], coords_SIII_sph[1], coords_SIII_sph[2])\n",
    "B_int_SIII_cart = tr.vectors_sph2cart(B_int_SIII_sph, coords_SIII_sph)\n",
    "B_int_M_cart = jfield.SIII2M(B_int_SIII_cart)\n",
    "B_int_M_cyl = tr.vectors_cart2cyl(B_int_M_cart, coords_M_cart)"
   ]
  },
  {
   "cell_type": "code",
   "execution_count": 9,
   "metadata": {},
   "outputs": [
    {
     "data": {
      "text/plain": [
       "1.3011319637298584"
      ]
     },
     "execution_count": 9,
     "metadata": {},
     "output_type": "execute_result"
    }
   ],
   "source": [
    "rho, phi, z = coords_M_cyl\n",
    "import time\n",
    "strt = time.time()\n",
    "B_md_M_cyl = jfield.PCD_field(rho, phi, z, x_jso)\n",
    "time.time() - strt"
   ]
  },
  {
   "cell_type": "code",
   "execution_count": null,
   "metadata": {},
   "outputs": [],
   "source": [
    "%matplotlib notebook\n",
    "\n",
    "c_ob = 'black'\n",
    "c_md = '#ff7f0e'\n",
    "\n",
    "figure, (ax1, ax2) = plt.subplots(2,1,figsize=(7,5))\n",
    "ax1.plot(R1, B_obs_M_cyl[0] - B_int_M_cyl[0], color = c_ob)\n",
    "ax1.plot(R1, B_md_M_cyl[0], color = c_md)\n",
    "\n",
    "ax2.plot(R1, B_obs_M_cyl[2] - B_int_M_cyl[2], color = c_ob)\n",
    "ax2.plot(R1, B_md_M_cyl[2], color = c_md)\n",
    "\n",
    "ax1.set_ylim(-55, 55)\n",
    "ax2.set_ylim(-5, 160)\n",
    "ax1.set_xlim(-R_max, R_max)\n",
    "ax2.set_xlim(-R_max, R_max)\n",
    "ax1.grid(linestyle = '--')\n",
    "ax2.grid(linestyle = '--')\n",
    "\n",
    "ax1.set_ylabel(r'$B_{\\rho}$, nT', fontsize = 14)\n",
    "ax2.set_ylabel(r'$B_{z}$, nT', fontsize = 14)\n",
    "ax2.set_xlabel('r, $R_J$', fontsize = 14)\n",
    "ax1.set_xticklabels([])\n",
    "for tic in ax1.xaxis.get_major_ticks():\n",
    "    tic.tick1On = tic.tick2On = False\n",
    "def tick_function(X):\n",
    "    return [\"%.0f\" % np.abs(z) for z in X]\n",
    "ax2.set_xticklabels(tick_function(plt.xticks()[0]))\n",
    "\n",
    "figure.tight_layout()"
   ]
  },
  {
   "cell_type": "code",
   "execution_count": null,
   "metadata": {},
   "outputs": [],
   "source": []
  }
 ],
 "metadata": {
  "kernelspec": {
   "display_name": "Python 3",
   "language": "python",
   "name": "python3"
  },
  "language_info": {
   "codemirror_mode": {
    "name": "ipython",
    "version": 3
   },
   "file_extension": ".py",
   "mimetype": "text/x-python",
   "name": "python",
   "nbconvert_exporter": "python",
   "pygments_lexer": "ipython3",
   "version": "3.6.5"
  },
  "varInspector": {
   "cols": {
    "lenName": 16,
    "lenType": 16,
    "lenVar": 40
   },
   "kernels_config": {
    "python": {
     "delete_cmd_postfix": "",
     "delete_cmd_prefix": "del ",
     "library": "var_list.py",
     "varRefreshCmd": "print(var_dic_list())"
    },
    "r": {
     "delete_cmd_postfix": ") ",
     "delete_cmd_prefix": "rm(",
     "library": "var_list.r",
     "varRefreshCmd": "cat(var_dic_list()) "
    }
   },
   "types_to_exclude": [
    "module",
    "function",
    "builtin_function_or_method",
    "instance",
    "_Feature"
   ],
   "window_display": false
  }
 },
 "nbformat": 4,
 "nbformat_minor": 2
}
